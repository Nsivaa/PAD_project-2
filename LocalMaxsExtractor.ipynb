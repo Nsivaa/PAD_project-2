{
 "cells": [
  {
   "cell_type": "markdown",
   "id": "bae3c1e7",
   "metadata": {},
   "source": [
    "![localmaxs](localmaxs.jpg) \n",
    "\n",
    "g(W) = glue function/cohesion (phi^2, dice etc)\n",
    "\n",
    "- count the frequency of the n-grams\n",
    "- calculate the glue between the words\n",
    "- evaluate the expression in the slides: W is a MWE iff ...\n",
    "\n",
    "has to be done for n up to 7\n",
    "Omega_n-1: \n",
    "Omega_n+1: in the case of 3 terms A,B,C for example, this is the max of the glue of all the 4-grams (3+1) that contain A,B,C. like (x,A,B,C) or (A,B,C,D) -> to do it, when we are calculating glue of 4-grams, we store already the sub-3-grams. so if we are calculating (A,B,C,D), we can store what the maximum value is, of the A,B,C and B,C,D grams. \n",
    "\n",
    "if n=2, as seen in the formula, we will only compare to 3-grams, as we don't have 1-grams. \n",
    "\n",
    "generalization of cohesion metrics to n-gram: it becomes an average? so we can compare n-grams with different n's, as they are normalized to the same magnitude. \n",
    "\n",
    "\n",
    "have an n-gram class with the characteristics as cohesion, frequencies, etc.."
   ]
  },
  {
   "cell_type": "code",
   "execution_count": 1,
   "id": "21238612",
   "metadata": {},
   "outputs": [],
   "source": [
    "from helper_functions import *\n",
    "from Extractor import Extractor"
   ]
  },
  {
   "cell_type": "code",
   "execution_count": 2,
   "id": "f49b1b24",
   "metadata": {},
   "outputs": [
    {
     "name": "stderr",
     "output_type": "stream",
     "text": [
      "Loading corpus:   0%|          | 0/3170 [00:00<?, ?files/s]"
     ]
    },
    {
     "name": "stderr",
     "output_type": "stream",
     "text": [
      "Loading corpus: 100%|██████████| 3170/3170 [00:00<00:00, 5908.53files/s]\n"
     ]
    }
   ],
   "source": [
    "dir_path = \"./data/corpus2mw/\"\n",
    "special_chars = [\";\", \":\", \"!\", \"?\", \"<\", \">\", \"&\", \"(\", \")\", \"[\", \"]\", \"{\", \"}\", \"|\", \"^\", \"+\", \"=\", \",\", '\"', \".\", '\\n']\n",
    "corpus = load_and_preprocess_corpus(dir_path, special_chars)"
   ]
  },
  {
   "cell_type": "code",
   "execution_count": null,
   "id": "8b163a38",
   "metadata": {},
   "outputs": [
    {
     "name": "stderr",
     "output_type": "stream",
     "text": [
      "Finding n-grams of size 2 in corpus: 100%|██████████| 50/50 [00:00<00:00, 94127.11n-grams/s]\n",
      "Finding n-grams of size 3 in corpus: 100%|██████████| 50/50 [00:00<00:00, 90045.17n-grams/s]\n",
      "Finding n-grams of size 4 in corpus: 100%|██████████| 50/50 [00:00<00:00, 152853.64n-grams/s]\n",
      "Finding n-grams: 100%|██████████| 3/3 [00:00<00:00, 39.02it/s]\n"
     ]
    }
   ],
   "source": [
    "extractor = Extractor(corpus, n_max=4)\n",
    "# print(extractor)"
   ]
  },
  {
   "cell_type": "code",
   "execution_count": 4,
   "id": "f43d7d2e",
   "metadata": {},
   "outputs": [
    {
     "name": "stderr",
     "output_type": "stream",
     "text": [
      "Finding n-grams frequencies:   0%|          | 0/150 [00:00<?, ?n-gram/s]"
     ]
    },
    {
     "name": "stderr",
     "output_type": "stream",
     "text": [
      "Finding n-grams frequencies: 100%|██████████| 150/150 [01:30<00:00,  1.66n-gram/s]\n"
     ]
    }
   ],
   "source": [
    "extractor.find_n_grams_frequencies()"
   ]
  },
  {
   "cell_type": "code",
   "execution_count": 5,
   "id": "3b4e9178",
   "metadata": {},
   "outputs": [],
   "source": [
    "frequencies = find_words_frequencies(corpus)"
   ]
  },
  {
   "cell_type": "code",
   "execution_count": 6,
   "id": "bd10d004",
   "metadata": {},
   "outputs": [
    {
     "name": "stdout",
     "output_type": "stream",
     "text": [
      "[\"NGram(n = 2, words = ('The', 'year'), frequency=13, cohesion=0)\", \"NGram(n = 2, words = ('year', '2014'), frequency=2, cohesion=0)\", \"NGram(n = 2, words = ('2014', 'is'), frequency=1, cohesion=0)\", \"NGram(n = 2, words = ('is', 'the'), frequency=1475, cohesion=0)\", \"NGram(n = 2, words = ('the', '21st'), frequency=23, cohesion=0)\", \"NGram(n = 2, words = ('21st', 'year'), frequency=2, cohesion=0)\", \"NGram(n = 2, words = ('year', 'in'), frequency=60, cohesion=0)\", \"NGram(n = 2, words = ('in', 'the'), frequency=11485, cohesion=0)\", \"NGram(n = 2, words = ('the', 'history'), frequency=80, cohesion=0)\", \"NGram(n = 2, words = ('history', 'of'), frequency=149, cohesion=0)\", \"NGram(n = 2, words = ('of', 'the'), frequency=17689, cohesion=0)\", \"NGram(n = 2, words = ('the', 'Ultimate'), frequency=2, cohesion=0)\", \"NGram(n = 2, words = ('Ultimate', 'Fighting'), frequency=3, cohesion=0)\", \"NGram(n = 2, words = ('Fighting', 'Championship'), frequency=3, cohesion=0)\", \"NGram(n = 2, words = ('Championship', '('), frequency=3, cohesion=0)\", \"NGram(n = 2, words = ('(', 'UFC'), frequency=1, cohesion=0)\", \"NGram(n = 2, words = ('UFC', ')'), frequency=1, cohesion=0)\", \"NGram(n = 2, words = (')', ','), frequency=2908, cohesion=0)\", \"NGram(n = 2, words = (',', 'a'), frequency=2350, cohesion=0)\", \"NGram(n = 2, words = ('a', 'mixed'), frequency=6, cohesion=0)\", \"NGram(n = 2, words = ('mixed', 'martial'), frequency=5, cohesion=0)\", \"NGram(n = 2, words = ('martial', 'arts'), frequency=12, cohesion=0)\", \"NGram(n = 2, words = ('arts', 'promotion'), frequency=1, cohesion=0)\", \"NGram(n = 2, words = ('promotion', 'based'), frequency=1, cohesion=0)\", \"NGram(n = 2, words = ('based', 'in'), frequency=147, cohesion=0)\", \"NGram(n = 2, words = ('in', 'the'), frequency=11485, cohesion=0)\", \"NGram(n = 2, words = ('the', 'United'), frequency=900, cohesion=0)\", \"NGram(n = 2, words = ('United', 'States.'), frequency=86, cohesion=0)\", \"NGram(n = 2, words = ('States.', 'Shirkaj'), frequency=1, cohesion=0)\", \"NGram(n = 2, words = ('Shirkaj', 'Eilema'), frequency=1, cohesion=0)\", \"NGram(n = 2, words = ('Eilema', 'albicosta'), frequency=1, cohesion=0)\", \"NGram(n = 2, words = ('albicosta', 'is'), frequency=1, cohesion=0)\", \"NGram(n = 2, words = ('is', 'a'), frequency=3759, cohesion=0)\", \"NGram(n = 2, words = ('a', 'moth'), frequency=41, cohesion=0)\", \"NGram(n = 2, words = ('moth', 'of'), frequency=37, cohesion=0)\", \"NGram(n = 2, words = ('of', 'the'), frequency=17689, cohesion=0)\", \"NGram(n = 2, words = ('the', 'Arctiidae'), frequency=11, cohesion=0)\", \"NGram(n = 2, words = ('Arctiidae', 'family.'), frequency=5, cohesion=0)\", \"NGram(n = 2, words = ('family.', 'It'), frequency=24, cohesion=0)\", \"NGram(n = 2, words = ('It', 'is'), frequency=1096, cohesion=0)\", \"NGram(n = 2, words = ('is', 'found'), frequency=88, cohesion=0)\", \"NGram(n = 2, words = ('found', 'in'), frequency=247, cohesion=0)\", \"NGram(n = 2, words = ('in', 'Spain'), frequency=22, cohesion=0)\", \"NGram(n = 2, words = ('Spain', 'and'), frequency=15, cohesion=0)\", \"NGram(n = 2, words = ('and', 'on'), frequency=137, cohesion=0)\", \"NGram(n = 2, words = ('on', 'the'), frequency=3879, cohesion=0)\", \"NGram(n = 2, words = ('the', 'Canary'), frequency=6, cohesion=0)\", \"NGram(n = 2, words = ('Canary', 'Islands.'), frequency=3, cohesion=0)\", \"NGram(n = 2, words = ('Islands.', 'Antony'), frequency=1, cohesion=0)\", \"NGram(n = 2, words = ('Antony', 'Fowler'), frequency=1, cohesion=0)\", \"NGram(n = 3, words = ('The', 'year', '2014'), frequency=1, cohesion=0)\", \"NGram(n = 3, words = ('year', '2014', 'is'), frequency=1, cohesion=0)\", \"NGram(n = 3, words = ('2014', 'is', 'the'), frequency=1, cohesion=0)\", \"NGram(n = 3, words = ('is', 'the', '21st'), frequency=1, cohesion=0)\", \"NGram(n = 3, words = ('the', '21st', 'year'), frequency=1, cohesion=0)\", \"NGram(n = 3, words = ('21st', 'year', 'in'), frequency=1, cohesion=0)\", \"NGram(n = 3, words = ('year', 'in', 'the'), frequency=15, cohesion=0)\", \"NGram(n = 3, words = ('in', 'the', 'history'), frequency=31, cohesion=0)\", \"NGram(n = 3, words = ('the', 'history', 'of'), frequency=71, cohesion=0)\", \"NGram(n = 3, words = ('history', 'of', 'the'), frequency=61, cohesion=0)\", \"NGram(n = 3, words = ('of', 'the', 'Ultimate'), frequency=1, cohesion=0)\", \"NGram(n = 3, words = ('the', 'Ultimate', 'Fighting'), frequency=1, cohesion=0)\", \"NGram(n = 3, words = ('Ultimate', 'Fighting', 'Championship'), frequency=2, cohesion=0)\", \"NGram(n = 3, words = ('Fighting', 'Championship', '('), frequency=1, cohesion=0)\", \"NGram(n = 3, words = ('Championship', '(', 'UFC'), frequency=1, cohesion=0)\", \"NGram(n = 3, words = ('(', 'UFC', ')'), frequency=1, cohesion=0)\", \"NGram(n = 3, words = ('UFC', ')', ','), frequency=1, cohesion=0)\", \"NGram(n = 3, words = (')', ',', 'a'), frequency=115, cohesion=0)\", \"NGram(n = 3, words = (',', 'a', 'mixed'), frequency=1, cohesion=0)\", \"NGram(n = 3, words = ('a', 'mixed', 'martial'), frequency=2, cohesion=0)\", \"NGram(n = 3, words = ('mixed', 'martial', 'arts'), frequency=3, cohesion=0)\", \"NGram(n = 3, words = ('martial', 'arts', 'promotion'), frequency=1, cohesion=0)\", \"NGram(n = 3, words = ('arts', 'promotion', 'based'), frequency=1, cohesion=0)\", \"NGram(n = 3, words = ('promotion', 'based', 'in'), frequency=1, cohesion=0)\", \"NGram(n = 3, words = ('based', 'in', 'the'), frequency=18, cohesion=0)\", \"NGram(n = 3, words = ('in', 'the', 'United'), frequency=301, cohesion=0)\", \"NGram(n = 3, words = ('the', 'United', 'States.'), frequency=52, cohesion=0)\", \"NGram(n = 3, words = ('United', 'States.', 'Shirkaj'), frequency=1, cohesion=0)\", \"NGram(n = 3, words = ('States.', 'Shirkaj', 'Eilema'), frequency=1, cohesion=0)\", \"NGram(n = 3, words = ('Shirkaj', 'Eilema', 'albicosta'), frequency=1, cohesion=0)\", \"NGram(n = 3, words = ('Eilema', 'albicosta', 'is'), frequency=1, cohesion=0)\", \"NGram(n = 3, words = ('albicosta', 'is', 'a'), frequency=1, cohesion=0)\", \"NGram(n = 3, words = ('is', 'a', 'moth'), frequency=41, cohesion=0)\", \"NGram(n = 3, words = ('a', 'moth', 'of'), frequency=33, cohesion=0)\", \"NGram(n = 3, words = ('moth', 'of', 'the'), frequency=37, cohesion=0)\", \"NGram(n = 3, words = ('of', 'the', 'Arctiidae'), frequency=9, cohesion=0)\", \"NGram(n = 3, words = ('the', 'Arctiidae', 'family.'), frequency=5, cohesion=0)\", \"NGram(n = 3, words = ('Arctiidae', 'family.', 'It'), frequency=5, cohesion=0)\", \"NGram(n = 3, words = ('family.', 'It', 'is'), frequency=18, cohesion=0)\", \"NGram(n = 3, words = ('It', 'is', 'found'), frequency=48, cohesion=0)\", \"NGram(n = 3, words = ('is', 'found', 'in'), frequency=61, cohesion=0)\", \"NGram(n = 3, words = ('found', 'in', 'Spain'), frequency=3, cohesion=0)\", \"NGram(n = 3, words = ('in', 'Spain', 'and'), frequency=4, cohesion=0)\", \"NGram(n = 3, words = ('Spain', 'and', 'on'), frequency=1, cohesion=0)\", \"NGram(n = 3, words = ('and', 'on', 'the'), frequency=37, cohesion=0)\", \"NGram(n = 3, words = ('on', 'the', 'Canary'), frequency=2, cohesion=0)\", \"NGram(n = 3, words = ('the', 'Canary', 'Islands.'), frequency=3, cohesion=0)\", \"NGram(n = 3, words = ('Canary', 'Islands.', 'Antony'), frequency=1, cohesion=0)\", \"NGram(n = 3, words = ('Islands.', 'Antony', 'Fowler'), frequency=1, cohesion=0)\", \"NGram(n = 3, words = ('Antony', 'Fowler', 'http'), frequency=1, cohesion=0)\", \"NGram(n = 4, words = ('The', 'year', '2014', 'is'), frequency=1, cohesion=0)\", \"NGram(n = 4, words = ('year', '2014', 'is', 'the'), frequency=1, cohesion=0)\", \"NGram(n = 4, words = ('2014', 'is', 'the', '21st'), frequency=1, cohesion=0)\", \"NGram(n = 4, words = ('is', 'the', '21st', 'year'), frequency=1, cohesion=0)\", \"NGram(n = 4, words = ('the', '21st', 'year', 'in'), frequency=1, cohesion=0)\", \"NGram(n = 4, words = ('21st', 'year', 'in', 'the'), frequency=1, cohesion=0)\", \"NGram(n = 4, words = ('year', 'in', 'the', 'history'), frequency=1, cohesion=0)\", \"NGram(n = 4, words = ('in', 'the', 'history', 'of'), frequency=30, cohesion=0)\", \"NGram(n = 4, words = ('the', 'history', 'of', 'the'), frequency=38, cohesion=0)\", \"NGram(n = 4, words = ('history', 'of', 'the', 'Ultimate'), frequency=1, cohesion=0)\", \"NGram(n = 4, words = ('of', 'the', 'Ultimate', 'Fighting'), frequency=1, cohesion=0)\", \"NGram(n = 4, words = ('the', 'Ultimate', 'Fighting', 'Championship'), frequency=1, cohesion=0)\", \"NGram(n = 4, words = ('Ultimate', 'Fighting', 'Championship', '('), frequency=1, cohesion=0)\", \"NGram(n = 4, words = ('Fighting', 'Championship', '(', 'UFC'), frequency=1, cohesion=0)\", \"NGram(n = 4, words = ('Championship', '(', 'UFC', ')'), frequency=1, cohesion=0)\", \"NGram(n = 4, words = ('(', 'UFC', ')', ','), frequency=1, cohesion=0)\", \"NGram(n = 4, words = ('UFC', ')', ',', 'a'), frequency=1, cohesion=0)\", \"NGram(n = 4, words = (')', ',', 'a', 'mixed'), frequency=1, cohesion=0)\", \"NGram(n = 4, words = (',', 'a', 'mixed', 'martial'), frequency=1, cohesion=0)\", \"NGram(n = 4, words = ('a', 'mixed', 'martial', 'arts'), frequency=1, cohesion=0)\", \"NGram(n = 4, words = ('mixed', 'martial', 'arts', 'promotion'), frequency=1, cohesion=0)\", \"NGram(n = 4, words = ('martial', 'arts', 'promotion', 'based'), frequency=1, cohesion=0)\", \"NGram(n = 4, words = ('arts', 'promotion', 'based', 'in'), frequency=1, cohesion=0)\", \"NGram(n = 4, words = ('promotion', 'based', 'in', 'the'), frequency=1, cohesion=0)\", \"NGram(n = 4, words = ('based', 'in', 'the', 'United'), frequency=2, cohesion=0)\", \"NGram(n = 4, words = ('in', 'the', 'United', 'States.'), frequency=28, cohesion=0)\", \"NGram(n = 4, words = ('the', 'United', 'States.', 'Shirkaj'), frequency=1, cohesion=0)\", \"NGram(n = 4, words = ('United', 'States.', 'Shirkaj', 'Eilema'), frequency=1, cohesion=0)\", \"NGram(n = 4, words = ('States.', 'Shirkaj', 'Eilema', 'albicosta'), frequency=1, cohesion=0)\", \"NGram(n = 4, words = ('Shirkaj', 'Eilema', 'albicosta', 'is'), frequency=1, cohesion=0)\", \"NGram(n = 4, words = ('Eilema', 'albicosta', 'is', 'a'), frequency=1, cohesion=0)\", \"NGram(n = 4, words = ('albicosta', 'is', 'a', 'moth'), frequency=1, cohesion=0)\", \"NGram(n = 4, words = ('is', 'a', 'moth', 'of'), frequency=33, cohesion=0)\", \"NGram(n = 4, words = ('a', 'moth', 'of', 'the'), frequency=33, cohesion=0)\", \"NGram(n = 4, words = ('moth', 'of', 'the', 'Arctiidae'), frequency=9, cohesion=0)\", \"NGram(n = 4, words = ('of', 'the', 'Arctiidae', 'family.'), frequency=5, cohesion=0)\", \"NGram(n = 4, words = ('the', 'Arctiidae', 'family.', 'It'), frequency=5, cohesion=0)\", \"NGram(n = 4, words = ('Arctiidae', 'family.', 'It', 'is'), frequency=3, cohesion=0)\", \"NGram(n = 4, words = ('family.', 'It', 'is', 'found'), frequency=12, cohesion=0)\", \"NGram(n = 4, words = ('It', 'is', 'found', 'in'), frequency=41, cohesion=0)\", \"NGram(n = 4, words = ('is', 'found', 'in', 'Spain'), frequency=2, cohesion=0)\", \"NGram(n = 4, words = ('found', 'in', 'Spain', 'and'), frequency=2, cohesion=0)\", \"NGram(n = 4, words = ('in', 'Spain', 'and', 'on'), frequency=1, cohesion=0)\", \"NGram(n = 4, words = ('Spain', 'and', 'on', 'the'), frequency=1, cohesion=0)\", \"NGram(n = 4, words = ('and', 'on', 'the', 'Canary'), frequency=1, cohesion=0)\", \"NGram(n = 4, words = ('on', 'the', 'Canary', 'Islands.'), frequency=2, cohesion=0)\", \"NGram(n = 4, words = ('the', 'Canary', 'Islands.', 'Antony'), frequency=1, cohesion=0)\", \"NGram(n = 4, words = ('Canary', 'Islands.', 'Antony', 'Fowler'), frequency=1, cohesion=0)\", \"NGram(n = 4, words = ('Islands.', 'Antony', 'Fowler', 'http'), frequency=1, cohesion=0)\", \"NGram(n = 4, words = ('Antony', 'Fowler', 'http', '://mobi.orlandopiratesfc.com/news/140525/Pirates_Sign_Sarr'), frequency=1, cohesion=0)\"]\n"
     ]
    }
   ],
   "source": [
    "print(extractor)"
   ]
  }
 ],
 "metadata": {
  "kernelspec": {
   "display_name": ".pad_2_venv",
   "language": "python",
   "name": "python3"
  },
  "language_info": {
   "codemirror_mode": {
    "name": "ipython",
    "version": 3
   },
   "file_extension": ".py",
   "mimetype": "text/x-python",
   "name": "python",
   "nbconvert_exporter": "python",
   "pygments_lexer": "ipython3",
   "version": "3.8.10"
  }
 },
 "nbformat": 4,
 "nbformat_minor": 5
}
