{
 "cells": [
  {
   "cell_type": "markdown",
   "id": "bae3c1e7",
   "metadata": {},
   "source": [
    "![localmaxs](localmaxs.jpg) \n",
    "\n",
    "g(W) = glue function/cohesion (phi^2, dice etc)\n",
    "\n",
    "- count the frequency of the n-grams\n",
    "- calculate the glue between the words\n",
    "- evaluate the expression in the slides: W is a MWE iff ...\n",
    "\n",
    "has to be done for n up to 7\n",
    "Omega_n-1: \n",
    "Omega_n+1: in the case of 3 terms A,B,C for example, this is the max of the glue of all the 4-grams (3+1) that contain A,B,C. like (x,A,B,C) or (A,B,C,D) -> to do it, when we are calculating glue of 4-grams, we store already the sub-3-grams. so if we are calculating (A,B,C,D), we can store what the maximum value is, of the A,B,C and B,C,D grams. \n",
    "\n",
    "if n=2, as seen in the formula, we will only compare to 3-grams, as we don't have 1-grams. \n",
    "\n",
    "generalization of cohesion metrics to n-gram: it becomes an average? so we can compare n-grams with different n's, as they are normalized to the same magnitude. \n",
    "\n",
    "\n",
    "have an n-gram class with the characteristics as cohesion, frequencies, etc.."
   ]
  },
  {
   "cell_type": "code",
   "execution_count": 1,
   "id": "21238612",
   "metadata": {},
   "outputs": [],
   "source": [
    "from helper_functions import *\n",
    "from Extractor import Extractor"
   ]
  },
  {
   "cell_type": "code",
   "execution_count": 2,
   "id": "f49b1b24",
   "metadata": {},
   "outputs": [
    {
     "name": "stderr",
     "output_type": "stream",
     "text": [
      "Loading corpus:   0%|          | 0/3170 [00:00<?, ?files/s]"
     ]
    },
    {
     "name": "stderr",
     "output_type": "stream",
     "text": [
      "Loading corpus: 100%|██████████| 3170/3170 [00:00<00:00, 5761.67files/s]\n"
     ]
    }
   ],
   "source": [
    "dir_path = \"./data/corpus2mw/\"\n",
    "special_chars = [\";\", \":\", \"!\", \"?\", \"<\", \">\", \"&\", \"(\", \")\", \"[\", \"]\", \"{\", \"}\", \"|\", \"^\", \"+\", \"=\", \",\", '\"', \".\", '\\n']\n",
    "corpus = load_and_preprocess_corpus(dir_path, special_chars)"
   ]
  },
  {
   "cell_type": "code",
   "execution_count": 3,
   "id": "8b163a38",
   "metadata": {},
   "outputs": [
    {
     "name": "stderr",
     "output_type": "stream",
     "text": [
      "Finding n-grams of size 1 in corpus: 100%|██████████| 50000/50000 [00:00<00:00, 279012.39n-grams/s]\n",
      "Finding n-grams of size 2 in corpus: 100%|██████████| 50000/50000 [00:00<00:00, 373136.81n-grams/s]\n",
      "Finding n-grams of size 3 in corpus: 100%|██████████| 50000/50000 [00:00<00:00, 359835.21n-grams/s]\n",
      "Finding n-grams of size 4 in corpus: 100%|██████████| 50000/50000 [00:00<00:00, 336400.66n-grams/s]\n",
      "Finding n-grams: 100%|██████████| 4/4 [00:00<00:00,  6.25it/s]\n"
     ]
    }
   ],
   "source": [
    "extractor = Extractor(corpus, n_max=4)\n"
   ]
  },
  {
   "cell_type": "code",
   "execution_count": 4,
   "id": "4644528b",
   "metadata": {},
   "outputs": [],
   "source": [
    "extractor.print_to_file()"
   ]
  }
 ],
 "metadata": {
  "kernelspec": {
   "display_name": ".pad_2_venv",
   "language": "python",
   "name": "python3"
  },
  "language_info": {
   "codemirror_mode": {
    "name": "ipython",
    "version": 3
   },
   "file_extension": ".py",
   "mimetype": "text/x-python",
   "name": "python",
   "nbconvert_exporter": "python",
   "pygments_lexer": "ipython3",
   "version": "3.8.10"
  }
 },
 "nbformat": 4,
 "nbformat_minor": 5
}
