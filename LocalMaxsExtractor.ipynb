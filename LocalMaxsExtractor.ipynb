{
 "cells": [
  {
   "cell_type": "markdown",
   "id": "bae3c1e7",
   "metadata": {},
   "source": [
    "![localmaxs](localmaxs.jpg) \n",
    "\n",
    "g(W) = glue function/cohesion (phi^2, dice etc)\n",
    "\n",
    "- count the frequency of the n-grams\n",
    "- calculate the glue between the words\n",
    "- evaluate the expression in the slides: W is a MWE iff ...\n",
    "\n",
    "has to be done for n up to 7\n",
    "Omega_n-1: \n",
    "Omega_n+1: in the case of 3 terms A,B,C for example, this is the max of the glue of all the 4-grams (3+1) that contain A,B,C. like (x,A,B,C) or (A,B,C,D) -> to do it, when we are calculating glue of 4-grams, we store already the sub-3-grams. so if we are calculating (A,B,C,D), we can store what the maximum value is, of the A,B,C and B,C,D grams. \n",
    "\n",
    "if n=2, as seen in the formula, we will only compare to 3-grams, as we don't have 1-grams. \n",
    "\n",
    "generalization of cohesion metrics to n-gram: it becomes an average? so we can compare n-grams with different n's, as they are normalized to the same magnitude. \n",
    "\n",
    "\n",
    "have an n-gram class with the characteristics as cohesion, frequencies, etc.."
   ]
  },
  {
   "cell_type": "code",
   "execution_count": 1,
   "id": "21238612",
   "metadata": {},
   "outputs": [],
   "source": [
    "from helper_functions import *\n",
    "from Extractor import Extractor"
   ]
  },
  {
   "cell_type": "code",
   "execution_count": 2,
   "id": "f49b1b24",
   "metadata": {},
   "outputs": [
    {
     "name": "stderr",
     "output_type": "stream",
     "text": [
      "Loading corpus:  14%|█▍        | 439/3170 [00:00<00:00, 4385.32files/s]"
     ]
    },
    {
     "name": "stderr",
     "output_type": "stream",
     "text": [
      "Loading corpus: 100%|██████████| 3170/3170 [00:00<00:00, 6500.51files/s]\n"
     ]
    }
   ],
   "source": [
    "dir_path = \"./data/corpus2mw/\"\n",
    "special_chars = [\";\", \":\", \"!\", \"?\", \"<\", \">\", \"&\", \"(\", \")\", \"[\", \"]\", \"{\", \"}\", \"|\", \"^\", \"+\", \"=\", \",\", '\"', \".\", '\\n']\n",
    "corpus = load_and_preprocess_corpus(dir_path, special_chars)"
   ]
  },
  {
   "cell_type": "code",
   "execution_count": 3,
   "id": "8b163a38",
   "metadata": {},
   "outputs": [
    {
     "name": "stderr",
     "output_type": "stream",
     "text": [
      "Finding n-grams of size 1 in corpus: 100%|██████████| 5000/5000 [00:00<00:00, 58794.48n-gram/s]\n",
      "Finding n-grams of size 2 in corpus: 100%|██████████| 5000/5000 [00:00<00:00, 410481.89n-gram/s]\n",
      "Finding n-grams of size 3 in corpus: 100%|██████████| 5000/5000 [00:00<00:00, 482914.32n-gram/s]\n",
      "Finding n-grams of size 4 in corpus: 100%|██████████| 5000/5000 [00:00<00:00, 54703.22n-gram/s]\n",
      "Finding n-grams of size 5 in corpus: 100%|██████████| 5000/5000 [00:00<00:00, 429146.27n-gram/s]\n",
      "Finding n-grams of size 6 in corpus: 100%|██████████| 5000/5000 [00:00<00:00, 376643.68n-gram/s]\n",
      "Finding n-grams of size 7 in corpus: 100%|██████████| 5000/5000 [00:00<00:00, 407008.50n-gram/s]\n",
      "Finding n-grams: 100%|██████████| 7/7 [00:00<00:00, 23.56it/s]\n"
     ]
    }
   ],
   "source": [
    "extractor = Extractor(corpus, n_max=7, limit = 5000)"
   ]
  },
  {
   "cell_type": "code",
   "execution_count": 4,
   "id": "a9af3837",
   "metadata": {},
   "outputs": [
    {
     "name": "stderr",
     "output_type": "stream",
     "text": [
      "Finding glue values:   0%|          | 0/3 [00:00<?, ?glue/s]\n"
     ]
    },
    {
     "ename": "RuntimeError",
     "evalue": "dictionary changed size during iteration",
     "output_type": "error",
     "traceback": [
      "\u001b[0;31m---------------------------------------------------------------------------\u001b[0m",
      "\u001b[0;31mRuntimeError\u001b[0m                              Traceback (most recent call last)",
      "Cell \u001b[0;32mIn[4], line 1\u001b[0m\n\u001b[0;32m----> 1\u001b[0m \u001b[43mextractor\u001b[49m\u001b[38;5;241;43m.\u001b[39;49m\u001b[43mfind_glue_values\u001b[49m\u001b[43m(\u001b[49m\u001b[43m)\u001b[49m\n",
      "File \u001b[0;32m~/PAD_project-2/Extractor.py:69\u001b[0m, in \u001b[0;36mExtractor.find_glue_values\u001b[0;34m(self)\u001b[0m\n\u001b[1;32m     66\u001b[0m \u001b[38;5;66;03m# for each glue function\u001b[39;00m\n\u001b[1;32m     67\u001b[0m \u001b[38;5;28;01mfor\u001b[39;00m glue \u001b[38;5;129;01min\u001b[39;00m tqdm(\u001b[38;5;28mself\u001b[39m\u001b[38;5;241m.\u001b[39mGLUE_FUNCTIONS\u001b[38;5;241m.\u001b[39mkeys(), desc\u001b[38;5;241m=\u001b[39m\u001b[38;5;124m\"\u001b[39m\u001b[38;5;124mFinding glue values\u001b[39m\u001b[38;5;124m\"\u001b[39m, unit\u001b[38;5;241m=\u001b[39m\u001b[38;5;124m\"\u001b[39m\u001b[38;5;124mglue\u001b[39m\u001b[38;5;124m\"\u001b[39m):\n\u001b[1;32m     68\u001b[0m     \u001b[38;5;66;03m# for each ngram\u001b[39;00m\n\u001b[0;32m---> 69\u001b[0m     \u001b[38;5;28;01mfor\u001b[39;00m words, data \u001b[38;5;129;01min\u001b[39;00m \u001b[38;5;28mself\u001b[39m\u001b[38;5;241m.\u001b[39mn_grams\u001b[38;5;241m.\u001b[39mitems():\n\u001b[1;32m     70\u001b[0m         \u001b[38;5;66;03m# if not an unigram\u001b[39;00m\n\u001b[1;32m     71\u001b[0m         \u001b[38;5;28;01mif\u001b[39;00m \u001b[38;5;28mlen\u001b[39m(words) \u001b[38;5;241m>\u001b[39m \u001b[38;5;241m1\u001b[39m:\n\u001b[1;32m     72\u001b[0m             \u001b[38;5;66;03m# call the glue function\u001b[39;00m\n\u001b[1;32m     73\u001b[0m             \u001b[38;5;28mself\u001b[39m\u001b[38;5;241m.\u001b[39mGLUE_FUNCTIONS[glue](\u001b[38;5;28mself\u001b[39m, words, data)\n",
      "\u001b[0;31mRuntimeError\u001b[0m: dictionary changed size during iteration"
     ]
    }
   ],
   "source": [
    "extractor.find_glue_values()"
   ]
  }
 ],
 "metadata": {
  "kernelspec": {
   "display_name": ".pad_2_venv",
   "language": "python",
   "name": "python3"
  },
  "language_info": {
   "codemirror_mode": {
    "name": "ipython",
    "version": 3
   },
   "file_extension": ".py",
   "mimetype": "text/x-python",
   "name": "python",
   "nbconvert_exporter": "python",
   "pygments_lexer": "ipython3",
   "version": "3.8.10"
  }
 },
 "nbformat": 4,
 "nbformat_minor": 5
}
