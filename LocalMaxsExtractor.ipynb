{
 "cells": [
  {
   "cell_type": "markdown",
   "id": "bae3c1e7",
   "metadata": {},
   "source": [
    "![localmaxs](localmaxs.jpg) \n",
    "\n",
    "g(W) = glue function/cohesion (phi^2, dice etc)\n",
    "\n",
    "- count the frequency of the n-grams\n",
    "- calculate the glue between the words\n",
    "- evaluate the expression in the slides: W is a MWE iff ...\n",
    "\n",
    "has to be done for n up to 7\n",
    "Omega_n-1: \n",
    "Omega_n+1: in the case of 3 terms A,B,C for example, this is the max of the glue of all the 4-grams (3+1) that contain A,B,C. like (x,A,B,C) or (A,B,C,D) -> to do it, when we are calculating glue of 4-grams, we store already the sub-3-grams. so if we are calculating (A,B,C,D), we can store what the maximum value is, of the A,B,C and B,C,D grams. \n",
    "\n",
    "if n=2, as seen in the formula, we will only compare to 3-grams, as we don't have 1-grams. \n",
    "\n",
    "generalization of cohesion metrics to n-gram: it becomes an average? so we can compare n-grams with different n's, as they are normalized to the same magnitude. \n",
    "\n",
    "\n",
    "have an n-gram class with the characteristics as cohesion, frequencies, etc.."
   ]
  },
  {
   "cell_type": "code",
   "execution_count": 1,
   "id": "21238612",
   "metadata": {},
   "outputs": [],
   "source": [
    "from helper_functions import *\n",
    "from Extractor import Extractor"
   ]
  },
  {
   "cell_type": "code",
   "execution_count": 2,
   "id": "f49b1b24",
   "metadata": {},
   "outputs": [
    {
     "name": "stderr",
     "output_type": "stream",
     "text": [
      "Loading corpus: 100%|██████████| 3170/3170 [00:00<00:00, 6994.54files/s]\n"
     ]
    }
   ],
   "source": [
    "dir_path = \"./data/corpus2mw/\"\n",
    "special_chars = [\";\", \":\", \"!\", \"?\", \"<\", \">\", \"&\", \"(\", \")\", \"[\", \"]\", \"{\", \"}\", \"|\", \"^\", \"+\", \"=\", \",\", '\"', \".\", '\\n']\n",
    "corpus = load_and_preprocess_corpus(dir_path, special_chars)"
   ]
  },
  {
   "cell_type": "code",
   "execution_count": 3,
   "id": "8b163a38",
   "metadata": {},
   "outputs": [
    {
     "name": "stderr",
     "output_type": "stream",
     "text": [
      "Finding n-grams of size 1 in corpus: 100%|██████████| 5000/5000 [00:00<00:00, 89001.53n-gram/s]\n",
      "Finding n-grams of size 2 in corpus: 100%|██████████| 5000/5000 [00:00<00:00, 38594.01n-gram/s]\n",
      "Finding n-grams of size 3 in corpus: 100%|██████████| 5000/5000 [00:00<00:00, 534265.41n-gram/s]\n",
      "Finding n-grams of size 4 in corpus: 100%|██████████| 5000/5000 [00:00<00:00, 546816.85n-gram/s]\n",
      "Finding n-grams of size 5 in corpus: 100%|██████████| 5000/5000 [00:00<00:00, 302396.79n-gram/s]\n",
      "Finding n-grams of size 6 in corpus: 100%|██████████| 5000/5000 [00:00<00:00, 554259.59n-gram/s]\n",
      "Finding n-grams of size 7 in corpus: 100%|██████████| 5000/5000 [00:00<00:00, 366033.44n-gram/s]\n",
      "Finding n-grams: 100%|██████████| 7/7 [00:00<00:00, 22.28it/s]\n"
     ]
    }
   ],
   "source": [
    "extractor = Extractor(corpus, n_max=7, limit = 5000)"
   ]
  },
  {
   "cell_type": "code",
   "execution_count": 4,
   "id": "a9af3837",
   "metadata": {},
   "outputs": [
    {
     "name": "stderr",
     "output_type": "stream",
     "text": [
      "Finding glue values:   0%|          | 0/3 [00:00<?, ?glue/s]\n"
     ]
    }
   ],
   "source": [
    "extractor.find_glue_values()"
   ]
  },
  {
   "cell_type": "code",
   "execution_count": 5,
   "id": "53cf1e06",
   "metadata": {},
   "outputs": [
    {
     "name": "stdout",
     "output_type": "stream",
     "text": [
      "Glue values found:\n",
      "1: ('disagreement', 'at', 'the', 'time') : frequency=1, scp=3.0, dice=0, phi_square=0\n",
      "2: ('disagreement', 'at', 'the', 'time', 'was', 'the', 'fact') : frequency=1, scp=3.0, dice=0, phi_square=0\n",
      "3: ('21st', 'year', 'in') : frequency=1, scp=2.0, dice=0, phi_square=0\n",
      "4: ('Ultimate', 'Fighting', 'Championship') : frequency=1, scp=2.0, dice=0, phi_square=0\n",
      "5: ('Fighting', 'Championship', '(') : frequency=1, scp=2.0, dice=0, phi_square=0\n",
      "6: ('Championship', '(', 'UFC') : frequency=1, scp=2.0, dice=0, phi_square=0\n",
      "7: ('mixed', 'martial', 'arts') : frequency=1, scp=2.0, dice=0, phi_square=0\n",
      "8: ('martial', 'arts', 'promotion') : frequency=1, scp=2.0, dice=0, phi_square=0\n",
      "9: ('arts', 'promotion', 'based') : frequency=1, scp=2.0, dice=0, phi_square=0\n",
      "10: ('States.', 'Shirkaj', 'Eilema') : frequency=1, scp=2.0, dice=0, phi_square=0\n",
      "11: ('Shirkaj', 'Eilema', 'albicosta') : frequency=1, scp=2.0, dice=0, phi_square=0\n",
      "12: ('Eilema', 'albicosta', 'is') : frequency=1, scp=2.0, dice=0, phi_square=0\n",
      "13: ('Arctiidae', 'family.', 'It') : frequency=1, scp=2.0, dice=0, phi_square=0\n",
      "14: ('Canary', 'Islands.', 'Antony') : frequency=1, scp=2.0, dice=0, phi_square=0\n",
      "15: ('Islands.', 'Antony', 'Fowler') : frequency=1, scp=2.0, dice=0, phi_square=0\n",
      "16: ('Antony', 'Fowler', 'http') : frequency=1, scp=2.0, dice=0, phi_square=0\n",
      "17: ('Fowler', 'http', '://mobi.orlandopiratesfc.com/news/140525/Pirates_Sign_Sarr') : frequency=1, scp=2.0, dice=0, phi_square=0\n",
      "18: ('://mobi.orlandopiratesfc.com/news/140525/Pirates_Sign_Sarr', 'The', 'commission') : frequency=1, scp=2.0, dice=0, phi_square=0\n",
      "19: ('UK', 'aviation', 'industry') : frequency=1, scp=2.0, dice=0, phi_square=0\n",
      "20: ('aviation', 'industry', 'and') : frequency=1, scp=2.0, dice=0, phi_square=0\n",
      "21: ('length', 'of', 'time') : frequency=1, scp=2.0, dice=0, phi_square=0\n",
      "22: ('Final', 'Report.', 'Conor') : frequency=1, scp=2.0, dice=0, phi_square=0\n",
      "23: ('Report.', 'Conor', 'Gethins') : frequency=1, scp=2.0, dice=0, phi_square=0\n",
      "24: ('Conor', 'Gethins', 'School') : frequency=1, scp=2.0, dice=0, phi_square=0\n",
      "25: ('Gethins', 'School', 'provides') : frequency=1, scp=2.0, dice=0, phi_square=0\n",
      "26: ('provides', 'following', 'facilities') : frequency=1, scp=2.0, dice=0, phi_square=0\n",
      "27: ('facilities', ':', '<') : frequency=1, scp=2.0, dice=0, phi_square=0\n",
      "28: ('<', 'doc', 'id') : frequency=7, scp=2.0, dice=0, phi_square=0\n",
      "29: ('://en.wikipedia.org/wiki', '?curid', '=40898914') : frequency=1, scp=2.0, dice=0, phi_square=0\n",
      "30: ('\"Walter', 'Franklin', '\"') : frequency=1, scp=2.0, dice=0, phi_square=0\n"
     ]
    }
   ],
   "source": [
    "print(\"Glue values found:\")\n",
    "extractor.sort_by_glue()\n",
    "extractor.print_top_n_glue(30)"
   ]
  }
 ],
 "metadata": {
  "kernelspec": {
   "display_name": ".pad_2_venv",
   "language": "python",
   "name": "python3"
  },
  "language_info": {
   "codemirror_mode": {
    "name": "ipython",
    "version": 3
   },
   "file_extension": ".py",
   "mimetype": "text/x-python",
   "name": "python",
   "nbconvert_exporter": "python",
   "pygments_lexer": "ipython3",
   "version": "3.8.10"
  }
 },
 "nbformat": 4,
 "nbformat_minor": 5
}
